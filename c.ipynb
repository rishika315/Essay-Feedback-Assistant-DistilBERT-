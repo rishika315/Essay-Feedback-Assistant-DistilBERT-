{
 "cells": [
  {
   "cell_type": "code",
   "execution_count": 1,
   "id": "ce88605e",
   "metadata": {},
   "outputs": [
    {
     "name": "stderr",
     "output_type": "stream",
     "text": [
      "c:\\Users\\91986\\OneDrive\\Documents\\PROJECTS\\PROJECTS\\nndl\\venv\\Lib\\site-packages\\tqdm\\auto.py:21: TqdmWarning: IProgress not found. Please update jupyter and ipywidgets. See https://ipywidgets.readthedocs.io/en/stable/user_install.html\n",
      "  from .autonotebook import tqdm as notebook_tqdm\n"
     ]
    },
    {
     "name": "stdout",
     "output_type": "stream",
     "text": [
      "Columns in dataset: ['essay', 'score']\n",
      "Cleaning essays...\n"
     ]
    },
    {
     "name": "stderr",
     "output_type": "stream",
     "text": [
      "100%|██████████| 24728/24728 [00:03<00:00, 6628.20it/s]\n"
     ]
    },
    {
     "name": "stdout",
     "output_type": "stream",
     "text": [
      "Encoding essays with SentenceTransformer...\n"
     ]
    },
    {
     "name": "stderr",
     "output_type": "stream",
     "text": [
      "Batches: 100%|██████████| 773/773 [34:32<00:00,  2.68s/it]   \n"
     ]
    },
    {
     "name": "stdout",
     "output_type": "stream",
     "text": [
      "Training Ridge Regression on ASAP embeddings (fast on CPU)...\n",
      "Ridge model saved to asap_ridge_model.pkl\n",
      "SentenceTransformer embedding saved to asap_embedding_model.pkl\n",
      "Test RMSE: 0.845\n"
     ]
    }
   ],
   "source": [
    "# a_fixed.py (training + save)\n",
    "import pandas as pd\n",
    "import numpy as np\n",
    "import re\n",
    "import pickle\n",
    "from sentence_transformers import SentenceTransformer\n",
    "from sklearn.linear_model import Ridge\n",
    "from sklearn.model_selection import train_test_split\n",
    "from sklearn.metrics import mean_squared_error\n",
    "from math import sqrt\n",
    "from tqdm import tqdm\n",
    "\n",
    "# -------------------------\n",
    "# Config\n",
    "# -------------------------\n",
    "DATA_PATH = \"ASAP2_train_sourcetexts.csv\"\n",
    "ESSAY_COL = \"full_text\"\n",
    "SCORE_COL = \"score\"\n",
    "MODEL_PATH = \"asap_ridge_model.pkl\"\n",
    "EMBED_PATH = \"asap_embedding_model.pkl\"\n",
    "\n",
    "# -------------------------\n",
    "# Load dataset\n",
    "# -------------------------\n",
    "df = pd.read_csv(DATA_PATH)\n",
    "df = df.dropna(subset=[ESSAY_COL, SCORE_COL])\n",
    "df = df[[ESSAY_COL, SCORE_COL]]\n",
    "df.rename(columns={ESSAY_COL: \"essay\", SCORE_COL: \"score\"}, inplace=True)\n",
    "print(\"Columns in dataset:\", df.columns.tolist())\n",
    "\n",
    "# -------------------------\n",
    "# Preprocess text\n",
    "# -------------------------\n",
    "def clean_text(text):\n",
    "    text = str(text)\n",
    "    text = re.sub(r'\\s+', ' ', text)\n",
    "    text = re.sub(r'[^A-Za-z0-9.,!?;:()\\'\"\\s]', '', text)\n",
    "    return text.strip()\n",
    "\n",
    "print(\"Cleaning essays...\")\n",
    "tqdm.pandas()\n",
    "df['essay_clean'] = df['essay'].progress_apply(clean_text)\n",
    "\n",
    "# -------------------------\n",
    "# Encode essays\n",
    "# -------------------------\n",
    "print(\"Encoding essays with SentenceTransformer...\")\n",
    "embedding_model = SentenceTransformer('all-MiniLM-L6-v2')\n",
    "essay_embeddings = embedding_model.encode(df['essay_clean'].tolist(), show_progress_bar=True)\n",
    "\n",
    "# -------------------------\n",
    "# Train Ridge Regression\n",
    "# -------------------------\n",
    "X = essay_embeddings\n",
    "y = df['score'].values.astype(float)\n",
    "\n",
    "X_train, X_test, y_train, y_test = train_test_split(X, y, test_size=0.15, random_state=42)\n",
    "ridge = Ridge(alpha=1.0)\n",
    "print(\"Training Ridge Regression on ASAP embeddings (fast on CPU)...\")\n",
    "ridge.fit(X_train, y_train)\n",
    "\n",
    "# -------------------------\n",
    "# Save model and embedding\n",
    "# -------------------------\n",
    "with open(MODEL_PATH, 'wb') as f:\n",
    "    pickle.dump(ridge, f)\n",
    "print(f\"Ridge model saved to {MODEL_PATH}\")\n",
    "\n",
    "with open(EMBED_PATH, 'wb') as f:\n",
    "    pickle.dump(embedding_model, f)\n",
    "print(f\"SentenceTransformer embedding saved to {EMBED_PATH}\")\n",
    "\n",
    "# -------------------------\n",
    "# Compute RMSE safely\n",
    "# -------------------------\n",
    "y_pred = ridge.predict(X_test)\n",
    "rmse = sqrt(mean_squared_error(y_test, y_pred))\n",
    "print(f\"Test RMSE: {rmse:.3f}\")\n"
   ]
  },
  {
   "cell_type": "code",
   "execution_count": null,
   "id": "c64a30a6",
   "metadata": {},
   "outputs": [],
   "source": []
  }
 ],
 "metadata": {
  "kernelspec": {
   "display_name": "venv",
   "language": "python",
   "name": "python3"
  },
  "language_info": {
   "codemirror_mode": {
    "name": "ipython",
    "version": 3
   },
   "file_extension": ".py",
   "mimetype": "text/x-python",
   "name": "python",
   "nbconvert_exporter": "python",
   "pygments_lexer": "ipython3",
   "version": "3.12.3"
  }
 },
 "nbformat": 4,
 "nbformat_minor": 5
}
